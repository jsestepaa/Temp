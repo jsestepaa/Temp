{
 "cells": [
  {
   "cell_type": "markdown",
   "metadata": {},
   "source": [
    "# Funciones\n",
    "\n",
    "Las funciones en Python son objetos que siguen una serie de instrucciones de forma aislada, y pueden tener una entrada y una salida.\n",
    "\n",
    "Se utilizan para:\n",
    "* Reutilización de código en diferentes ejercicios.\n",
    "* Generación de módulos para fragmentar código extenso y/o complejo.\n",
    "\n",
    "Las funciones son invocadas escribiendo el nombre del objeto que las contiene seguido de un punto, el nombre de la función y paréntesis. Dentro de los paréntesis van los argumentos que puede necesitar la función."
   ]
  },
  {
   "cell_type": "markdown",
   "metadata": {},
   "source": [
    "<center><b>object.function(arg1, arg2, ..., argn)</b></center>"
   ]
  },
  {
   "cell_type": "markdown",
   "metadata": {},
   "source": [
    "Cuando una función es interna en Python, generada en el mismo archivo o es importada usando <b>from... import</b> no es necesario nombrar ningún objeto.\n",
    "\n",
    "Ej:\n",
    "* type(arg)\n",
    "* str(arg)\n",
    "* print(arg)\n",
    "* input(arg)"
   ]
  },
  {
   "cell_type": "markdown",
   "metadata": {},
   "source": [
    "### Ejercicio 1\n",
    "\n",
    "1. Importe la función <b>date</b> de<b> datetime</b> y genere una fecha:"
   ]
  },
  {
   "cell_type": "code",
   "execution_count": null,
   "metadata": {},
   "outputs": [],
   "source": []
  },
  {
   "cell_type": "markdown",
   "metadata": {},
   "source": [
    "## Creación de funciones\n",
    "\n",
    "Para crear una función usamos <b>def</b> seguido de su nombre y de los argumentos a utilizar (encerrados en paréntesis). Como el código dentro de una función se encuentra en otro bloque, tenemos que usar <b>:</b> e identación."
   ]
  },
  {
   "cell_type": "code",
   "execution_count": 11,
   "metadata": {},
   "outputs": [
    {
     "name": "stdout",
     "output_type": "stream",
     "text": [
      "10\n"
     ]
    }
   ],
   "source": [
    "def func1(var):\n",
    "    print(var - 2)\n",
    "\n",
    "func1(12)"
   ]
  },
  {
   "cell_type": "markdown",
   "metadata": {},
   "source": [
    "Como podemos ver, no es necesario definir el tipo de la variable a introducir. Python de forma dinámica intenta predecir el tipo de la variable."
   ]
  },
  {
   "cell_type": "code",
   "execution_count": 18,
   "metadata": {},
   "outputs": [
    {
     "name": "stdout",
     "output_type": "stream",
     "text": [
      "?\n"
     ]
    }
   ],
   "source": [
    "def func2(var):\n",
    "    try:\n",
    "        print(var - 2)\n",
    "    except:\n",
    "        print('?')\n",
    "\n",
    "func2('Texto')"
   ]
  },
  {
   "cell_type": "markdown",
   "metadata": {},
   "source": [
    "En este caso, como estamos realizando una resta, Python asume que la variable introducida es un número.\n",
    "\n",
    "Si queremos que la función retorne un valor, usamos <b>return</b>"
   ]
  },
  {
   "cell_type": "code",
   "execution_count": 19,
   "metadata": {},
   "outputs": [
    {
     "name": "stdout",
     "output_type": "stream",
     "text": [
      "10\n",
      "None\n",
      "24\n"
     ]
    }
   ],
   "source": [
    "def func3(var):\n",
    "    return var * 2\n",
    "\n",
    "print(func1(12))\n",
    "print(func3(12))"
   ]
  },
  {
   "cell_type": "markdown",
   "metadata": {},
   "source": [
    "Todas las variables definidas dentro de una función son locales, por lo que no generarán cambios en las variables globales."
   ]
  },
  {
   "cell_type": "code",
   "execution_count": 30,
   "metadata": {},
   "outputs": [
    {
     "name": "stdout",
     "output_type": "stream",
     "text": [
      "3\n"
     ]
    }
   ],
   "source": [
    "a = 3\n",
    "\n",
    "def func4():\n",
    "    a = a + 4\n",
    "    return a\n",
    "\n",
    "print(a)"
   ]
  },
  {
   "cell_type": "markdown",
   "metadata": {},
   "source": [
    "Para definir argumentos opcionales, simplemente tenemos que inicializar la variable dentro de la función."
   ]
  },
  {
   "cell_type": "code",
   "execution_count": 33,
   "metadata": {},
   "outputs": [
    {
     "name": "stdout",
     "output_type": "stream",
     "text": [
      "4\n",
      "9\n"
     ]
    }
   ],
   "source": [
    "def func5(primero, segundo = 0):\n",
    "    return primero + segundo\n",
    "\n",
    "print(func5(4))\n",
    "print(func5(4, 5))"
   ]
  },
  {
   "cell_type": "markdown",
   "metadata": {},
   "source": [
    "Acá podemos ver una función un poco más compleja."
   ]
  },
  {
   "cell_type": "code",
   "execution_count": 43,
   "metadata": {},
   "outputs": [
    {
     "name": "stdout",
     "output_type": "stream",
     "text": [
      "[[0, 0, 0, 0, 0], [0, 0, 0, 0, 0], [0, 0, 0, 0, 0]]\n",
      "[[4, 4, 4, 4, 4], [4, 4, 4, 4, 4], [4, 4, 4, 4, 4], [4, 4, 4, 4, 4]]\n"
     ]
    }
   ],
   "source": [
    "def newMatrix(size , n = 0):  # size es una tupla con su primer elemento las filas de la matriz y su segundo las columnas\n",
    "    matriz = []\n",
    "    for i in range(size[0]):\n",
    "        a = [n] * size[1]\n",
    "        matriz.append(a)\n",
    "    return matriz\n",
    "\n",
    "print(newMatrix((3, 5)))\n",
    "print(newMatrix((4, 5, 5), 4))"
   ]
  },
  {
   "cell_type": "markdown",
   "metadata": {},
   "source": [
    "### Ejercicio 2\n",
    "1. Genere una función para calcular:\n",
    "    * $f(x) = 3^{n}$\n",
    "    * $f(x,y) = 3^{n} * y!$"
   ]
  },
  {
   "cell_type": "markdown",
   "metadata": {},
   "source": [
    "<h2> Buenas prácticas en Python </h2>\n",
    "\n",
    "<p> Para programadores, desarrolladores y científicos de datos es importante que a la hora de <i>tipear</i> sean capaces de escribir un código adecuadamente, es por ello que existen un conjunto de reglas en Python a la hora de elaborar Scripts o Modulos. </p>\n",
    "\n",
    "<ol type =\"1\">\n",
    "  <li>Estructura del código</li>\n",
    "  <li>Estilos de codificación</li>\n",
    "  <li>Seguridad</li>\n",
    "  <li>Testing</li>\n",
    "  <li>Manejor de errores</li>\n",
    "  <li>Optimización</li>\n",
    "</ul>\n"
   ]
  },
  {
   "cell_type": "markdown",
   "metadata": {},
   "source": [
    "1. **Estructura del codigo**\n",
    "    * Descripción del script\n",
    "    * Importación de modulos y paquetes\n",
    "    * Constantes y variables globales\n",
    "    * Definición de clases y funciones\n",
    "    * Cuerpo principal"
   ]
  },
  {
   "cell_type": "code",
   "execution_count": 44,
   "metadata": {},
   "outputs": [
    {
     "name": "stdout",
     "output_type": "stream",
     "text": [
      "Es mayor a 0\n"
     ]
    }
   ],
   "source": [
    "'''Script de conteo'''\n",
    "import numpy as np\n",
    "\n",
    "e = 2.34\n",
    "var = 1\n",
    "\n",
    "def imprimir(a):\n",
    "    print(\"El elemento a imprimir es:\",a)\n",
    "\n",
    "if var > 0:\n",
    "    print(\"Es mayor a 0\")"
   ]
  },
  {
   "cell_type": "markdown",
   "metadata": {},
   "source": [
    "**2. Estilos de codificación**\n",
    "<ul>\n",
    "    <li>Escribir y actualizar comentarios en secciones importantes (el por qué)</li>\n",
    "    <li>Asumir un estilo de codificación y mantenerlo</li>\n",
    "    <li>Uso de la identación</li>\n",
    "    <li>Emplear nombres claros en las variables, evitando el conflicto con funciones, objetos, etc.</li>\n",
    "    <li>Mantener un código simple KISS (Keep It Simple Stupid)</li>\n",
    "    <li>No emplees sentencias comparativas/condicionales para comparar objetos <i>None</i></li>\n",
    "</ul>"
   ]
  },
  {
   "cell_type": "markdown",
   "metadata": {},
   "source": [
    "**3. Seguridad**\n",
    "<ul>\n",
    "    <li>Evitar publicar información sensible de los usuarios</li>\n",
    "    <li>Manipular códigos de terceros que sea seguro</li>\n",
    "    <li>Concentrar esfuerzo en las secciones que manipulen información del exterior</li>\n",
    "    <li>Evitar que el script requiera privilegios de administrador</li>\n",
    "</ul>"
   ]
  },
  {
   "cell_type": "markdown",
   "metadata": {},
   "source": [
    "**4. Testing**\n",
    "<ul>\n",
    "    <li>Ejecutar código con valores atípicos y de frontera</li>\n",
    "    <li>Verificar cada sentencia del código</li>\n",
    "    <li>Realizar pruebas independientes</li>\n",
    "</ul>"
   ]
  },
  {
   "cell_type": "markdown",
   "metadata": {},
   "source": [
    "**5. Manejo de errores**\n",
    "<ul>\n",
    "    <li> No manejar la sentencia <i>Exception</i> en <b>try - except</b></li>\n",
    "    <li> Crear excepciones en casos específicos</li>\n",
    "</ul>"
   ]
  },
  {
   "cell_type": "markdown",
   "metadata": {},
   "source": [
    "**6. Optimización**\n",
    "<ul>\n",
    "    <li> Busca de mejoras, posibles errores y oportunidades de optimización</li>\n",
    "    <li> Siempre verificar el funcionamiento del algoritmo antes de optimizarlo</li>\n",
    "    <li> Minimizar el uso de funciones</li>\n",
    "    <li> No reinventar la rueda</li>\n",
    "</ul>"
   ]
  },
  {
   "cell_type": "markdown",
   "metadata": {},
   "source": [
    "# Archivos y directorios\n",
    "\n",
    "Python viene con un módulo llamado <b>os</b> (Operating System), que nos sirve para conseguir información sobre archivos, directorios locales, procesos, ect, y manipularlos.\n",
    "\n",
    "Este módulo esta únificado en su mayor parte entre sistemas operativos, por lo que su sintaxis es usualmente la misma sin importar desde que sistema operativo se esté trabajando.\n",
    "    \n",
    "Cuandon se está trabajando con archivos externos o librerias propias es importante conocer en que directorio se está trabajando. Esto es debido a que de no estar en la ruta de importación por defecto de Python, intentar importar un archivo sin especificar su ruta (muy probablemente) nos resultará en un <b>ImportationError</b>."
   ]
  },
  {
   "cell_type": "markdown",
   "metadata": {},
   "source": [
    "## os"
   ]
  },
  {
   "cell_type": "markdown",
   "metadata": {},
   "source": [
    "Existen dos formas de solucionar esto:\n",
    "* Manipulando el directorio actual, y\n",
    "* Añadir la ruta necesaria a la ruta de importación. (Para esto usaremos <b>sys.path</b>)\n",
    "\n",
    "El módulo <b>os</b> nos permite realizar lo primero."
   ]
  },
  {
   "cell_type": "code",
   "execution_count": 9,
   "metadata": {},
   "outputs": [
    {
     "name": "stdout",
     "output_type": "stream",
     "text": [
      "C:\\Users\\jestepa\\Documents\\Clase Python\\Clase 4\n"
     ]
    }
   ],
   "source": [
    "import os  # Aunque en este caso estamos importando la librería en medio del código, es importante recordar que es\n",
    "           #    recomendable hacerlo al inicio.\n",
    "\n",
    "print(os.getcwd())"
   ]
  },
  {
   "cell_type": "markdown",
   "metadata": {},
   "source": [
    "Jupyter usa por defecto la ruta en donde se encuentra el archivo que se está trabajando. No todos los IDEs se comportan de esta manera."
   ]
  },
  {
   "cell_type": "code",
   "execution_count": 10,
   "metadata": {},
   "outputs": [
    {
     "name": "stdout",
     "output_type": "stream",
     "text": [
      "C:\\Users\\jestepa\\Documents\n"
     ]
    }
   ],
   "source": [
    "os.chdir('C:\\\\Users\\\\jestepa\\\\Documents\\\\')\n",
    "\n",
    "print(os.getcwd())"
   ]
  },
  {
   "cell_type": "markdown",
   "metadata": {},
   "source": [
    "Usando <b>os.getcwd</b> (get current working directory) podemos encontrar en que ruta está usando Python como directorio activo, y con <b>os.chdir</b> podemos cambiar este directorio."
   ]
  },
  {
   "cell_type": "markdown",
   "metadata": {},
   "source": [
    "Podemos observar dos detalles. \n",
    "* La ruta mostrada y modificada depende de donde se esté trabajando. Muy probablemente el código que se encuentra encima falle si no es cambiado. \n",
    "* Estamos usando <b>' \\\\\\\\ '</b> en vez de <b>' \\\\ '</b> cuando asignamos la ruta. Esto es debido a la forma en como Python interpreta los _str_ . Existen ciertos caracteres que tienen efectos especiales cuando se usan dentro de un _str_ , <b>\\\\</b> es uno de ellos. Anteriormente vimos como <b>\\\\n</b> nos servia para generar una linea en blanco, esto es porque <b>\\\\</b> tienen una funcionalidad adicional dependiento del caracter que le procede. Si queremos usar el caracter sin ninguna funcionalidad tenemos que usarlo dos veces."
   ]
  },
  {
   "cell_type": "code",
   "execution_count": 11,
   "metadata": {},
   "outputs": [
    {
     "name": "stdout",
     "output_type": "stream",
     "text": [
      "True\n"
     ]
    }
   ],
   "source": [
    "# O podemos usar r'str' (raw)\n",
    "ruta1 = 'C:\\\\Users\\\\jestepa\\\\Documents'\n",
    "ruta2 = r'C:\\Users\\jestepa\\Documents'\n",
    "\n",
    "print(ruta1 == ruta2)"
   ]
  },
  {
   "cell_type": "markdown",
   "metadata": {},
   "source": [
    "Dentro del módulo <b>os</b> tenemos <b>os.path</b>, que posee múltiples funciones para manipular nombres de rutas."
   ]
  },
  {
   "cell_type": "markdown",
   "metadata": {},
   "source": [
    "##### os.path.isfile(ruta)\n",
    "* Revisa si el archivo seleccionado existe."
   ]
  },
  {
   "cell_type": "code",
   "execution_count": 12,
   "metadata": {},
   "outputs": [
    {
     "name": "stdout",
     "output_type": "stream",
     "text": [
      "True\n"
     ]
    }
   ],
   "source": [
    "print(os.path.isfile(ruta1 + '\\\\Jupyter_launcher.bat'))"
   ]
  },
  {
   "cell_type": "markdown",
   "metadata": {},
   "source": [
    "##### os.path.isdir(ruta)\n",
    "* Revisa si la ruta seleccionada existe."
   ]
  },
  {
   "cell_type": "code",
   "execution_count": 13,
   "metadata": {},
   "outputs": [
    {
     "name": "stdout",
     "output_type": "stream",
     "text": [
      "True\n"
     ]
    }
   ],
   "source": [
    "print(os.path.isdir(ruta1))"
   ]
  },
  {
   "cell_type": "markdown",
   "metadata": {},
   "source": [
    "##### os.path.join(ruta1, ruta2)\n",
    "* Une directorios usando el _slash_ correcto."
   ]
  },
  {
   "cell_type": "code",
   "execution_count": 14,
   "metadata": {},
   "outputs": [
    {
     "name": "stdout",
     "output_type": "stream",
     "text": [
      "C:\\Users\\jestepa\\Documents\\Clase Python\n"
     ]
    }
   ],
   "source": [
    "print(os.path.join(ruta1, 'Clase Python'))"
   ]
  },
  {
   "cell_type": "markdown",
   "metadata": {},
   "source": [
    "##### os.path.expanduser('~')\n",
    "* Trae el directorio _default_ del usuario."
   ]
  },
  {
   "cell_type": "code",
   "execution_count": 15,
   "metadata": {},
   "outputs": [
    {
     "name": "stdout",
     "output_type": "stream",
     "text": [
      "C:\\Users\\jestepa\n"
     ]
    }
   ],
   "source": [
    "print(os.path.expanduser('~'))"
   ]
  },
  {
   "cell_type": "markdown",
   "metadata": {},
   "source": [
    "##### os.path.split(ruta)\n",
    "* Separa la última carpeta/archivo de una ruta."
   ]
  },
  {
   "cell_type": "code",
   "execution_count": 16,
   "metadata": {},
   "outputs": [
    {
     "name": "stdout",
     "output_type": "stream",
     "text": [
      "C:\\Users\\jestepa\n",
      "Documents\n"
     ]
    }
   ],
   "source": [
    "path, file = os.path.split(ruta1)\n",
    "print(path)\n",
    "print(file)"
   ]
  },
  {
   "cell_type": "markdown",
   "metadata": {},
   "source": [
    "##### os.path.splitext(ruta)\n",
    "* Separa la extensión de un archivo."
   ]
  },
  {
   "cell_type": "code",
   "execution_count": 24,
   "metadata": {},
   "outputs": [
    {
     "name": "stdout",
     "output_type": "stream",
     "text": [
      "Jupyter_launcher\n",
      ".bat\n"
     ]
    }
   ],
   "source": [
    "file, ext = os.path.splitext('Jupyter_launcher.bat')\n",
    "print(file)\n",
    "print(ext)"
   ]
  },
  {
   "cell_type": "markdown",
   "metadata": {},
   "source": [
    "##### os.path.realpath\n",
    "* Muestra la ruta completa de un archivo o carpeta dentro del directorio de trabajo actual."
   ]
  },
  {
   "cell_type": "code",
   "execution_count": 17,
   "metadata": {},
   "outputs": [
    {
     "name": "stdout",
     "output_type": "stream",
     "text": [
      "C:\\Users\\jestepa\\Documents\\Jupyter_launcher.bat\n"
     ]
    }
   ],
   "source": [
    "print(os.path.realpath('Jupyter_launcher.bat'))"
   ]
  },
  {
   "cell_type": "markdown",
   "metadata": {},
   "source": [
    "##### os.makedirs(ruta)\n",
    "* Nos permite crear una carpeta en la ruta especificada"
   ]
  },
  {
   "cell_type": "code",
   "execution_count": 18,
   "metadata": {},
   "outputs": [
    {
     "name": "stdout",
     "output_type": "stream",
     "text": [
      "True\n"
     ]
    }
   ],
   "source": [
    "os.makedirs(os.path.join(ruta1, 'Nueva carpeta de prueba'))\n",
    "print(os.path.isdir('Nueva carpeta de prueba'))"
   ]
  },
  {
   "cell_type": "markdown",
   "metadata": {},
   "source": [
    "##### os.remove(ruta)\n",
    "* Nos permite eliminar en la ruta especificada"
   ]
  },
  {
   "cell_type": "markdown",
   "metadata": {},
   "source": [
    "## glob"
   ]
  },
  {
   "cell_type": "markdown",
   "metadata": {},
   "source": [
    "El módulo <b>glob</b> nos sirve para encontrar los archivos contenidos en una ruta."
   ]
  },
  {
   "cell_type": "code",
   "execution_count": 35,
   "metadata": {},
   "outputs": [
    {
     "name": "stdout",
     "output_type": "stream",
     "text": [
      "['C:\\\\Users\\\\jestepa\\\\Documents\\\\Jupyter_launcher.bat']\n"
     ]
    }
   ],
   "source": [
    "import glob\n",
    "\n",
    "todo = glob.glob(ruta1 + '\\\\*.bat')\n",
    "\n",
    "print(todo)"
   ]
  },
  {
   "cell_type": "markdown",
   "metadata": {},
   "source": [
    "<b>glob</b> puede usar múltiples comodines<b>( * )</b> para encontrar los archivos que cumplan el patrón establecido y guardar su ruta en una lista. En este caso, el patrón es que su extensión sea .bat."
   ]
  },
  {
   "cell_type": "markdown",
   "metadata": {},
   "source": [
    "## shutil"
   ]
  },
  {
   "cell_type": "markdown",
   "metadata": {},
   "source": [
    "Este módulo se especializa en tareas de movimiento y copia de archivos.\n",
    "\n",
    "Aunque el módulo <b>os</b> contiene funciones para copiar archivos singulares, <b>shutil</b> nos permite trabajar con archivos singulares y colecciones de archivos."
   ]
  },
  {
   "cell_type": "markdown",
   "metadata": {},
   "source": [
    "##### shutil.copy(ruta, destino)\n",
    "* Copia un archivo a la ruta de destino. Es podible cambiar el nombre del archivo asignando el nuevo nombre en la ruta de destino."
   ]
  },
  {
   "cell_type": "code",
   "execution_count": 39,
   "metadata": {},
   "outputs": [
    {
     "name": "stdout",
     "output_type": "stream",
     "text": [
      "True\n"
     ]
    }
   ],
   "source": [
    "import shutil\n",
    "\n",
    "shutil.copy('Jupyter_launcher.bat', 'Nueva carpeta de prueba\\\\Jupyter_launcher_2.bat')\n",
    "print(os.path.isfile('Nueva carpeta de prueba\\\\Jupyter_launcher_2.bat'))"
   ]
  },
  {
   "cell_type": "markdown",
   "metadata": {},
   "source": [
    "##### shutil.move(ruta, destino)\n",
    "* Mueve un archivo a la ruta de destino. Es podible cambiar el nombre del archivo asignando el nuevo nombre en la ruta de destino."
   ]
  },
  {
   "cell_type": "code",
   "execution_count": 41,
   "metadata": {},
   "outputs": [
    {
     "name": "stdout",
     "output_type": "stream",
     "text": [
      "True\n"
     ]
    }
   ],
   "source": [
    "shutil.move('Nueva carpeta de prueba\\\\Jupyter_launcher_2.bat', 'Jupyter_launcher_3.bat')\n",
    "print(os.path.isfile('Jupyter_launcher_3.bat'))"
   ]
  },
  {
   "cell_type": "markdown",
   "metadata": {},
   "source": [
    "## sys.path"
   ]
  },
  {
   "cell_type": "markdown",
   "metadata": {},
   "source": [
    "El modulo <b>sys</b> nos sirve para acceder a variables del intérprete (Python). Python posee una lista de rutas que usa para importar módulos, que podemos incrementar usando _append_ ."
   ]
  },
  {
   "cell_type": "code",
   "execution_count": 1,
   "metadata": {},
   "outputs": [
    {
     "ename": "ModuleNotFoundError",
     "evalue": "No module named 'TRMHist'",
     "output_type": "error",
     "traceback": [
      "\u001b[1;31m---------------------------------------------------------------------------\u001b[0m",
      "\u001b[1;31mModuleNotFoundError\u001b[0m                       Traceback (most recent call last)",
      "\u001b[1;32m<ipython-input-1-e4957760b383>\u001b[0m in \u001b[0;36m<module>\u001b[1;34m\u001b[0m\n\u001b[1;32m----> 1\u001b[1;33m \u001b[1;32mfrom\u001b[0m \u001b[0mTRMHist\u001b[0m \u001b[1;32mimport\u001b[0m \u001b[0mtrm\u001b[0m\u001b[1;33m\u001b[0m\u001b[1;33m\u001b[0m\u001b[0m\n\u001b[0m",
      "\u001b[1;31mModuleNotFoundError\u001b[0m: No module named 'TRMHist'"
     ]
    }
   ],
   "source": [
    "from TRMHist import trm"
   ]
  },
  {
   "cell_type": "code",
   "execution_count": 7,
   "metadata": {},
   "outputs": [],
   "source": [
    "import sys\n",
    "sys.path.append(\"M:\\\\02 Procesos\\\\VaR\\\\Regulatorio\\\\Python\\\\Utilidades\")\n",
    "from TRMHist import trm"
   ]
  },
  {
   "cell_type": "markdown",
   "metadata": {},
   "source": [
    "Como podemos ver, esta vez no nos generó error al intentar importar un módulo propio."
   ]
  },
  {
   "cell_type": "code",
   "execution_count": 6,
   "metadata": {},
   "outputs": [
    {
     "name": "stdout",
     "output_type": "stream",
     "text": [
      "3835.15\n"
     ]
    }
   ],
   "source": [
    "today = date.today()\n",
    "print(trm(today, 1))"
   ]
  },
  {
   "cell_type": "markdown",
   "metadata": {},
   "source": [
    "La función trm() del módulo importado recibe una fecha y un retrazo de días, y retorna el valor de la trm (de un Excel histórico) correspondiente a la fecha resultante entre los valores introducidos."
   ]
  },
  {
   "cell_type": "markdown",
   "metadata": {},
   "source": [
    "## Ejercicios\n",
    "1. Cambie la ruta de trabajo a 'Archivos de trabajo' dentro de la carpeta de la clase 4.\n",
    "2. Elimine el archivo TRMFalso.xlsx.\n",
    "3. Genere una lista con glob.glob de todos los archivos cuya extensión sea .xlsx.\n",
    "4. Cree una nueva carpeta dentro del directorio y genere una copia de los archivos dentro de la lista con un ciclo for que recorra la lista anterior. Pista: Puede usar indexación o os.path.split() para extraer el nombre del archivo a copiar y unirlo a un _str_ con la ruta de destino.\n",
    "5. Verifique que los archivos hayan sido copiados correctamente con os.path.isfile()"
   ]
  },
  {
   "cell_type": "code",
   "execution_count": null,
   "metadata": {},
   "outputs": [],
   "source": []
  }
 ],
 "metadata": {
  "kernelspec": {
   "display_name": "Python 3",
   "language": "python",
   "name": "python3"
  },
  "language_info": {
   "codemirror_mode": {
    "name": "ipython",
    "version": 3
   },
   "file_extension": ".py",
   "mimetype": "text/x-python",
   "name": "python",
   "nbconvert_exporter": "python",
   "pygments_lexer": "ipython3",
   "version": "3.7.2"
  }
 },
 "nbformat": 4,
 "nbformat_minor": 4
}
