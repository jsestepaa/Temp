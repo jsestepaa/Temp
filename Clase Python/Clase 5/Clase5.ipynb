{
 "cells": [
  {
   "cell_type": "markdown",
   "metadata": {},
   "source": [
    "# <center> Manipulación y procesamiento de datos </center>"
   ]
  },
  {
   "cell_type": "markdown",
   "metadata": {},
   "source": [
    "<p> En está sesión realizaremos una introducción al procesamiento de datos en Python. Para ello, miraremos como importar distintas fuentes de información y como manipularlas.</p>"
   ]
  },
  {
   "cell_type": "markdown",
   "metadata": {},
   "source": [
    "### Los datos"
   ]
  },
  {
   "cell_type": "markdown",
   "metadata": {},
   "source": [
    "La mayoría de los datos a nivel global se encuentran no estructurados, es decir, no se encuentran en alojados en una infraestructura que me permita realizar obtener información, realizar modelos, estimar resultados. Es por ello que es útil para cualquier modelador, entender como puede construir distintos tipos de estructuras de datos, y con ellos realizar los análisis que desee."
   ]
  },
  {
   "cell_type": "markdown",
   "metadata": {},
   "source": [
    "### Librerías y modulos "
   ]
  },
  {
   "cell_type": "markdown",
   "metadata": {},
   "source": [
    "Estas son las librerías y los modulos con que trabajaremos está sección:\n",
    "<ul>\n",
    "    <li><i>numpy:</i> Es una librería que contiene una gran variedad de modulos, muchos de ellos, orientados a algebra lineal, funciones matemáticas, transformadas de Fourier y números aleatorios, entre otros elementos.</li>\n",
    "    <li><i>pandas:</i> Es una librería con modulos enfocados en estructura y análisis de datos</li>\n",
    "\n",
    "</ul>   "
   ]
  },
  {
   "cell_type": "code",
   "execution_count": 41,
   "metadata": {},
   "outputs": [],
   "source": [
    "# Importemos los módulos numpy y pandas\n",
    "\n",
    "import numpy as np\n",
    "import pandas as pd"
   ]
  },
  {
   "cell_type": "markdown",
   "metadata": {},
   "source": [
    "## Data Frame "
   ]
  },
  {
   "cell_type": "markdown",
   "metadata": {},
   "source": [
    "<p>En clases vimos como podemos interactuar con la maquina a través de Python para que pueda realizar tareas sencillas, a su vez, observamos que a la hora de programar, existen distintos tipos de elementos que en este lenguaje nos permite almacenar información.</p>\n",
    "\n",
    "<p>Los <i>Data frame</i> son un tipo de archivos en la cual podemos almacenar una cantidad heterogenea de elementos, como datos numéricos, string, registros categorícos y demás. Y este se compone de filas (índices), columnas, valores perdidos, y datos. Donde, cada fila será entendida como un registro, y cada columna como un campo.</p>\n",
    "\n",
    "<p>Estas estructuras son útiles porque nos permiten hacer consultas sobre las características de nuestra información, permitiendo identificar patrones y errores en las fuentes de datos. Así como hacer manipulaciones mas complejas.</p>\n",
    "\n",
    "<p>En Python partimos de <i>diccionarios</i> para obtener data frames.</p>"
   ]
  },
  {
   "cell_type": "code",
   "execution_count": 42,
   "metadata": {},
   "outputs": [
    {
     "name": "stdout",
     "output_type": "stream",
     "text": [
      "<class 'dict'> \n",
      "\n",
      "    Nombre  Edad\n",
      "0   Andres    20\n",
      "1   Camilo    21\n",
      "2    Laura    19\n",
      "3  Daniela    18 \n",
      "\n",
      "Index(['Nombre', 'Edad'], dtype='object') \n",
      "\n",
      "RangeIndex(start=0, stop=4, step=1) \n",
      "\n",
      "[['Andres' 20]\n",
      " ['Camilo' 21]\n",
      " ['Laura' 19]\n",
      " ['Daniela' 18]] \n",
      "\n",
      "['Nombre' 'Edad'] \n",
      "\n",
      "[0 1 2 3]\n"
     ]
    }
   ],
   "source": [
    "## Crear un Data frame\n",
    "# 1. Creemos un diccionario\n",
    "data = {'Nombre':['Andres', 'Camilo', 'Laura', 'Daniela'],\n",
    "        'Edad':[20, 21, 19, 18]}\n",
    "print(type(data), '\\n')\n",
    "\n",
    "# Transformamos a data frame\n",
    "df = pd.DataFrame(data)\n",
    "\n",
    "# Podemos imprimir los primeros resultados.\n",
    "print(df.head(), '\\n')\n",
    "\n",
    "## Ingreso a los componentes\n",
    "# columnas\n",
    "print(df.columns, '\\n')\n",
    "print(df.index, '\\n')\n",
    "print(df.values, '\\n')\n",
    "print(df.columns.values, '\\n')\n",
    "print(df.index.values)"
   ]
  },
  {
   "cell_type": "markdown",
   "metadata": {},
   "source": [
    "Veamos otro Data frame, al que cambiaremos el tipo de una de sus columnas a categórico."
   ]
  },
  {
   "cell_type": "code",
   "execution_count": 115,
   "metadata": {},
   "outputs": [
    {
     "name": "stdout",
     "output_type": "stream",
     "text": [
      "   Nombre  Edad       Ciudad Sexo\n",
      "0   Maria    27       Bogota    F\n",
      "1  Carlos    24         Cali    M\n",
      "2    Juan    22  Bucaramanga    M\n",
      "3  Lorena    32          NaN    F \n",
      "\n",
      " Nombre    object\n",
      "Edad       int64\n",
      "Ciudad    object\n",
      "Sexo      object\n",
      "dtype: object \n",
      "\n",
      "   Nombre  Edad       Ciudad Sexo\n",
      "0   Maria    27       Bogota    F\n",
      "1  Carlos    24         Cali    M\n",
      "2    Juan    22  Bucaramanga    M\n",
      "3  Lorena    32          NaN    F \n",
      "\n",
      " Nombre      object\n",
      "Edad         int64\n",
      "Ciudad      object\n",
      "Sexo      category\n",
      "dtype: object\n"
     ]
    }
   ],
   "source": [
    "## Otro data frame\n",
    "df = {'Nombre':['Maria', 'Carlos', 'Juan', 'Lorena'],\n",
    "        'Edad':[27, 24, 22, 32],\n",
    "        'Ciudad':['Bogota', 'Cali', 'Bucaramanga', np.nan],\n",
    "        'Sexo':['F', 'M', 'M', 'F']}\n",
    "df = pd.DataFrame(df)\n",
    "print(df.head(), '\\n\\n', df.dtypes, '\\n')\n",
    "\n",
    "## Transformemos el campo sexo a dato categórico\n",
    "df[\"Sexo\"] = df[\"Sexo\"].astype('category')\n",
    "print(df.head(), '\\n\\n', df.dtypes)"
   ]
  },
  {
   "cell_type": "markdown",
   "metadata": {},
   "source": [
    "## Series"
   ]
  },
  {
   "cell_type": "markdown",
   "metadata": {},
   "source": [
    "Las series son un tipo especial de Data frame unidimensional, en el que se tiene múltiples registros pero un único campo. Si pensamos en un data frame como en una matríz, una serie sería un vector. En Excel representaría una columna en una hoja."
   ]
  },
  {
   "cell_type": "code",
   "execution_count": 133,
   "metadata": {},
   "outputs": [
    {
     "name": "stdout",
     "output_type": "stream",
     "text": [
      "0     Esto\n",
      "1       es\n",
      "2      una\n",
      "3    serie\n",
      "dtype: object \n",
      "\n",
      " object\n"
     ]
    }
   ],
   "source": [
    "serie1 = pd.Series(['Esto', 'es', 'una', 'serie'])\n",
    "print(serie1, '\\n\\n', serie1.dtypes)"
   ]
  },
  {
   "cell_type": "markdown",
   "metadata": {},
   "source": [
    "### Tipos de objetos "
   ]
  },
  {
   "cell_type": "markdown",
   "metadata": {},
   "source": [
    "En Python con Pandas podemos albergar distintos tipos de objetos, entre los que tenemos:\n",
    "\n",
    "<ul>\n",
    "    <li> <b>Enteros:</b> Números enteros </li>\n",
    "    <li> <b>Flotantes:</b> Números decimales </li>\n",
    "    <li> <b>Expresiones booleanas:</b> <b>True</b> and <b>False</b> </li>\n",
    "    <li> <b>Categóricos:</b> Datos númericos o string que definen un tipo específico de dominio para un campo </li>\n",
    "    <li> <b>Fechas:</b> Datos de fechas, como el día, el mes y el año </li>\n",
    "    <li> <b>Complejos:</b> Números complejos </li>\n",
    "    <li> <b>Objetos:</b> Columnas con string, tuplas, listas, diccionarios, entre otros </li>\n",
    "</ul>"
   ]
  },
  {
   "cell_type": "markdown",
   "metadata": {},
   "source": [
    "## Manipulación de Data Frame "
   ]
  },
  {
   "cell_type": "markdown",
   "metadata": {},
   "source": [
    "<p>Ya construido un data frame, podemos realizar distintos tipos de ejercicios, por ejemplo:</p>\n",
    "<ul>\n",
    "    <li>Renombrar columnas y filas</li>\n",
    "    <li>Selección y manipulación de información</li>\n",
    "    <li>Manipulación de <i>missing values</i></li>\n",
    "</ul>"
   ]
  },
  {
   "cell_type": "markdown",
   "metadata": {},
   "source": [
    "### Renombrar índices y columnas "
   ]
  },
  {
   "cell_type": "markdown",
   "metadata": {},
   "source": [
    "<p>En varios escenarios es necesario renombrar las filas y las columnas de un data frame, con el fin de corregir y/o mejorar la información contenida en una tabla </p>"
   ]
  },
  {
   "cell_type": "code",
   "execution_count": 116,
   "metadata": {},
   "outputs": [
    {
     "name": "stdout",
     "output_type": "stream",
     "text": [
      "   Nombre  Edad       Ciudad Sexo\n",
      "0   Maria    27       Bogota    F\n",
      "1  Carlos    24         Cali    M\n",
      "2    Juan    22  Bucaramanga    M\n",
      "3  Lorena    32          NaN    F\n",
      "\n",
      "\n",
      "     Name  Age         City Sex\n",
      "2   Maria   27       Bogota   F\n",
      "3  Carlos   24         Cali   M\n",
      "4    Juan   22  Bucaramanga   M\n",
      "5  Lorena   32          NaN   F\n",
      "\n",
      "\n",
      "             Name  Age         City Sex\n",
      "Perez       Maria   27       Bogota   F\n",
      "Ortiz      Carlos   24         Cali   M\n",
      "Rodriguez    Juan   22  Bucaramanga   M\n",
      "Gonzalez   Lorena   32          NaN   F\n"
     ]
    }
   ],
   "source": [
    "print(df)\n",
    "df.columns = ['Name','Age','City','Sex']\n",
    "df.index = range(2,6)\n",
    "print('\\n')\n",
    "print(df)\n",
    "df.index = ['Perez','Ortiz','Rodriguez','Gonzalez']\n",
    "print('\\n')\n",
    "print(df)"
   ]
  },
  {
   "cell_type": "markdown",
   "metadata": {},
   "source": [
    "### Selección y manipulación de información"
   ]
  },
  {
   "cell_type": "markdown",
   "metadata": {},
   "source": [
    "#### Seleccionar columnas e índices "
   ]
  },
  {
   "cell_type": "markdown",
   "metadata": {},
   "source": [
    "Existe varias maneras de manipular los índices y las columnas, por ejemplo, podemos seleccionar columnas y índices de la siguiente manera:\n",
    "<ul>\n",
    "    <li>df.nombre_columna : Solo aplica para nombres sin espacios</li>\n",
    "    <li>df[\"nombre_columna\"] : Indexación normal, en los DF el orden de acceso es df[columnas][filas]</li>\n",
    "    <li>df.loc[] : Trabaja con la eiqueta del índice</li>\n",
    "    <li>df.loc['indice']</li>\n",
    "    <li>df.iloc[:, '_']: Trabaja con la posición del índice</li>\n",
    "</ul>\n",
    "Tanto loc o iloc puede ser usado para buscar información por filas o columnas"
   ]
  },
  {
   "cell_type": "code",
   "execution_count": 45,
   "metadata": {},
   "outputs": [
    {
     "name": "stdout",
     "output_type": "stream",
     "text": [
      "Help on _iLocIndexer in module pandas.core.indexing object:\n",
      "\n",
      "class _iLocIndexer(_LocationIndexer)\n",
      " |  Purely integer-location based indexing for selection by position.\n",
      " |  \n",
      " |  ``.iloc[]`` is primarily integer position based (from ``0`` to\n",
      " |  ``length-1`` of the axis), but may also be used with a boolean\n",
      " |  array.\n",
      " |  \n",
      " |  Allowed inputs are:\n",
      " |  \n",
      " |  - An integer, e.g. ``5``.\n",
      " |  - A list or array of integers, e.g. ``[4, 3, 0]``.\n",
      " |  - A slice object with ints, e.g. ``1:7``.\n",
      " |  - A boolean array.\n",
      " |  - A ``callable`` function with one argument (the calling Series or\n",
      " |    DataFrame) and that returns valid output for indexing (one of the above).\n",
      " |    This is useful in method chains, when you don't have a reference to the\n",
      " |    calling object, but would like to base your selection on some value.\n",
      " |  \n",
      " |  ``.iloc`` will raise ``IndexError`` if a requested indexer is\n",
      " |  out-of-bounds, except *slice* indexers which allow out-of-bounds\n",
      " |  indexing (this conforms with python/numpy *slice* semantics).\n",
      " |  \n",
      " |  See more at :ref:`Selection by Position <indexing.integer>`.\n",
      " |  \n",
      " |  See Also\n",
      " |  --------\n",
      " |  DataFrame.iat : Fast integer location scalar accessor.\n",
      " |  DataFrame.loc : Purely label-location based indexer for selection by label.\n",
      " |  Series.iloc : Purely integer-location based indexing for\n",
      " |                 selection by position.\n",
      " |  \n",
      " |  Examples\n",
      " |  --------\n",
      " |  \n",
      " |  >>> mydict = [{'a': 1, 'b': 2, 'c': 3, 'd': 4},\n",
      " |  ...           {'a': 100, 'b': 200, 'c': 300, 'd': 400},\n",
      " |  ...           {'a': 1000, 'b': 2000, 'c': 3000, 'd': 4000 }]\n",
      " |  >>> df = pd.DataFrame(mydict)\n",
      " |  >>> df\n",
      " |        a     b     c     d\n",
      " |  0     1     2     3     4\n",
      " |  1   100   200   300   400\n",
      " |  2  1000  2000  3000  4000\n",
      " |  \n",
      " |  **Indexing just the rows**\n",
      " |  \n",
      " |  With a scalar integer.\n",
      " |  \n",
      " |  >>> type(df.iloc[0])\n",
      " |  <class 'pandas.core.series.Series'>\n",
      " |  >>> df.iloc[0]\n",
      " |  a    1\n",
      " |  b    2\n",
      " |  c    3\n",
      " |  d    4\n",
      " |  Name: 0, dtype: int64\n",
      " |  \n",
      " |  With a list of integers.\n",
      " |  \n",
      " |  >>> df.iloc[[0]]\n",
      " |     a  b  c  d\n",
      " |  0  1  2  3  4\n",
      " |  >>> type(df.iloc[[0]])\n",
      " |  <class 'pandas.core.frame.DataFrame'>\n",
      " |  \n",
      " |  >>> df.iloc[[0, 1]]\n",
      " |       a    b    c    d\n",
      " |  0    1    2    3    4\n",
      " |  1  100  200  300  400\n",
      " |  \n",
      " |  With a `slice` object.\n",
      " |  \n",
      " |  >>> df.iloc[:3]\n",
      " |        a     b     c     d\n",
      " |  0     1     2     3     4\n",
      " |  1   100   200   300   400\n",
      " |  2  1000  2000  3000  4000\n",
      " |  \n",
      " |  With a boolean mask the same length as the index.\n",
      " |  \n",
      " |  >>> df.iloc[[True, False, True]]\n",
      " |        a     b     c     d\n",
      " |  0     1     2     3     4\n",
      " |  2  1000  2000  3000  4000\n",
      " |  \n",
      " |  With a callable, useful in method chains. The `x` passed\n",
      " |  to the ``lambda`` is the DataFrame being sliced. This selects\n",
      " |  the rows whose index label even.\n",
      " |  \n",
      " |  >>> df.iloc[lambda x: x.index % 2 == 0]\n",
      " |        a     b     c     d\n",
      " |  0     1     2     3     4\n",
      " |  2  1000  2000  3000  4000\n",
      " |  \n",
      " |  **Indexing both axes**\n",
      " |  \n",
      " |  You can mix the indexer types for the index and columns. Use ``:`` to\n",
      " |  select the entire axis.\n",
      " |  \n",
      " |  With scalar integers.\n",
      " |  \n",
      " |  >>> df.iloc[0, 1]\n",
      " |  2\n",
      " |  \n",
      " |  With lists of integers.\n",
      " |  \n",
      " |  >>> df.iloc[[0, 2], [1, 3]]\n",
      " |        b     d\n",
      " |  0     2     4\n",
      " |  2  2000  4000\n",
      " |  \n",
      " |  With `slice` objects.\n",
      " |  \n",
      " |  >>> df.iloc[1:3, 0:3]\n",
      " |        a     b     c\n",
      " |  1   100   200   300\n",
      " |  2  1000  2000  3000\n",
      " |  \n",
      " |  With a boolean array whose length matches the columns.\n",
      " |  \n",
      " |  >>> df.iloc[:, [True, False, True, False]]\n",
      " |        a     c\n",
      " |  0     1     3\n",
      " |  1   100   300\n",
      " |  2  1000  3000\n",
      " |  \n",
      " |  With a callable function that expects the Series or DataFrame.\n",
      " |  \n",
      " |  >>> df.iloc[:, lambda df: [0, 2]]\n",
      " |        a     c\n",
      " |  0     1     3\n",
      " |  1   100   300\n",
      " |  2  1000  3000\n",
      " |  \n",
      " |  Method resolution order:\n",
      " |      _iLocIndexer\n",
      " |      _LocationIndexer\n",
      " |      _NDFrameIndexer\n",
      " |      pandas._libs.indexing._NDFrameIndexerBase\n",
      " |      builtins.object\n",
      " |  \n",
      " |  Methods inherited from _LocationIndexer:\n",
      " |  \n",
      " |  __getitem__(self, key)\n",
      " |  \n",
      " |  ----------------------------------------------------------------------\n",
      " |  Methods inherited from _NDFrameIndexer:\n",
      " |  \n",
      " |  __call__(self, axis=None)\n",
      " |      Call self as a function.\n",
      " |  \n",
      " |  __setitem__(self, key, value)\n",
      " |  \n",
      " |  ----------------------------------------------------------------------\n",
      " |  Data descriptors inherited from _NDFrameIndexer:\n",
      " |  \n",
      " |  __dict__\n",
      " |      dictionary for instance variables (if defined)\n",
      " |  \n",
      " |  __weakref__\n",
      " |      list of weak references to the object (if defined)\n",
      " |  \n",
      " |  ----------------------------------------------------------------------\n",
      " |  Data and other attributes inherited from _NDFrameIndexer:\n",
      " |  \n",
      " |  __annotations__ = {'_valid_types': <class 'str'>}\n",
      " |  \n",
      " |  axis = None\n",
      " |  \n",
      " |  ----------------------------------------------------------------------\n",
      " |  Methods inherited from pandas._libs.indexing._NDFrameIndexerBase:\n",
      " |  \n",
      " |  __init__(self, /, *args, **kwargs)\n",
      " |      Initialize self.  See help(type(self)) for accurate signature.\n",
      " |  \n",
      " |  __reduce__ = __reduce_cython__(...)\n",
      " |  \n",
      " |  __setstate__ = __setstate_cython__(...)\n",
      " |  \n",
      " |  ----------------------------------------------------------------------\n",
      " |  Static methods inherited from pandas._libs.indexing._NDFrameIndexerBase:\n",
      " |  \n",
      " |  __new__(*args, **kwargs) from builtins.type\n",
      " |      Create and return a new object.  See help(type) for accurate signature.\n",
      " |  \n",
      " |  ----------------------------------------------------------------------\n",
      " |  Data descriptors inherited from pandas._libs.indexing._NDFrameIndexerBase:\n",
      " |  \n",
      " |  name\n",
      " |  \n",
      " |  ndim\n",
      " |  \n",
      " |  obj\n",
      "\n"
     ]
    }
   ],
   "source": [
    "help(df.iloc)"
   ]
  },
  {
   "cell_type": "code",
   "execution_count": 46,
   "metadata": {},
   "outputs": [
    {
     "name": "stdout",
     "output_type": "stream",
     "text": [
      "Help on _LocIndexer in module pandas.core.indexing object:\n",
      "\n",
      "class _LocIndexer(_LocationIndexer)\n",
      " |  Access a group of rows and columns by label(s) or a boolean array.\n",
      " |  \n",
      " |  ``.loc[]`` is primarily label based, but may also be used with a\n",
      " |  boolean array.\n",
      " |  \n",
      " |  Allowed inputs are:\n",
      " |  \n",
      " |  - A single label, e.g. ``5`` or ``'a'``, (note that ``5`` is\n",
      " |    interpreted as a *label* of the index, and **never** as an\n",
      " |    integer position along the index).\n",
      " |  - A list or array of labels, e.g. ``['a', 'b', 'c']``.\n",
      " |  - A slice object with labels, e.g. ``'a':'f'``.\n",
      " |  \n",
      " |    .. warning:: Note that contrary to usual python slices, **both** the\n",
      " |        start and the stop are included\n",
      " |  \n",
      " |  - A boolean array of the same length as the axis being sliced,\n",
      " |    e.g. ``[True, False, True]``.\n",
      " |  - A ``callable`` function with one argument (the calling Series or\n",
      " |    DataFrame) and that returns valid output for indexing (one of the above)\n",
      " |  \n",
      " |  See more at :ref:`Selection by Label <indexing.label>`\n",
      " |  \n",
      " |  Raises\n",
      " |  ------\n",
      " |  KeyError\n",
      " |      If any items are not found.\n",
      " |  \n",
      " |  See Also\n",
      " |  --------\n",
      " |  DataFrame.at : Access a single value for a row/column label pair.\n",
      " |  DataFrame.iloc : Access group of rows and columns by integer position(s).\n",
      " |  DataFrame.xs : Returns a cross-section (row(s) or column(s)) from the\n",
      " |      Series/DataFrame.\n",
      " |  Series.loc : Access group of values using labels.\n",
      " |  \n",
      " |  Examples\n",
      " |  --------\n",
      " |  **Getting values**\n",
      " |  \n",
      " |  >>> df = pd.DataFrame([[1, 2], [4, 5], [7, 8]],\n",
      " |  ...      index=['cobra', 'viper', 'sidewinder'],\n",
      " |  ...      columns=['max_speed', 'shield'])\n",
      " |  >>> df\n",
      " |              max_speed  shield\n",
      " |  cobra               1       2\n",
      " |  viper               4       5\n",
      " |  sidewinder          7       8\n",
      " |  \n",
      " |  Single label. Note this returns the row as a Series.\n",
      " |  \n",
      " |  >>> df.loc['viper']\n",
      " |  max_speed    4\n",
      " |  shield       5\n",
      " |  Name: viper, dtype: int64\n",
      " |  \n",
      " |  List of labels. Note using ``[[]]`` returns a DataFrame.\n",
      " |  \n",
      " |  >>> df.loc[['viper', 'sidewinder']]\n",
      " |              max_speed  shield\n",
      " |  viper               4       5\n",
      " |  sidewinder          7       8\n",
      " |  \n",
      " |  Single label for row and column\n",
      " |  \n",
      " |  >>> df.loc['cobra', 'shield']\n",
      " |  2\n",
      " |  \n",
      " |  Slice with labels for row and single label for column. As mentioned\n",
      " |  above, note that both the start and stop of the slice are included.\n",
      " |  \n",
      " |  >>> df.loc['cobra':'viper', 'max_speed']\n",
      " |  cobra    1\n",
      " |  viper    4\n",
      " |  Name: max_speed, dtype: int64\n",
      " |  \n",
      " |  Boolean list with the same length as the row axis\n",
      " |  \n",
      " |  >>> df.loc[[False, False, True]]\n",
      " |              max_speed  shield\n",
      " |  sidewinder          7       8\n",
      " |  \n",
      " |  Conditional that returns a boolean Series\n",
      " |  \n",
      " |  >>> df.loc[df['shield'] > 6]\n",
      " |              max_speed  shield\n",
      " |  sidewinder          7       8\n",
      " |  \n",
      " |  Conditional that returns a boolean Series with column labels specified\n",
      " |  \n",
      " |  >>> df.loc[df['shield'] > 6, ['max_speed']]\n",
      " |              max_speed\n",
      " |  sidewinder          7\n",
      " |  \n",
      " |  Callable that returns a boolean Series\n",
      " |  \n",
      " |  >>> df.loc[lambda df: df['shield'] == 8]\n",
      " |              max_speed  shield\n",
      " |  sidewinder          7       8\n",
      " |  \n",
      " |  **Setting values**\n",
      " |  \n",
      " |  Set value for all items matching the list of labels\n",
      " |  \n",
      " |  >>> df.loc[['viper', 'sidewinder'], ['shield']] = 50\n",
      " |  >>> df\n",
      " |              max_speed  shield\n",
      " |  cobra               1       2\n",
      " |  viper               4      50\n",
      " |  sidewinder          7      50\n",
      " |  \n",
      " |  Set value for an entire row\n",
      " |  \n",
      " |  >>> df.loc['cobra'] = 10\n",
      " |  >>> df\n",
      " |              max_speed  shield\n",
      " |  cobra              10      10\n",
      " |  viper               4      50\n",
      " |  sidewinder          7      50\n",
      " |  \n",
      " |  Set value for an entire column\n",
      " |  \n",
      " |  >>> df.loc[:, 'max_speed'] = 30\n",
      " |  >>> df\n",
      " |              max_speed  shield\n",
      " |  cobra              30      10\n",
      " |  viper              30      50\n",
      " |  sidewinder         30      50\n",
      " |  \n",
      " |  Set value for rows matching callable condition\n",
      " |  \n",
      " |  >>> df.loc[df['shield'] > 35] = 0\n",
      " |  >>> df\n",
      " |              max_speed  shield\n",
      " |  cobra              30      10\n",
      " |  viper               0       0\n",
      " |  sidewinder          0       0\n",
      " |  \n",
      " |  **Getting values on a DataFrame with an index that has integer labels**\n",
      " |  \n",
      " |  Another example using integers for the index\n",
      " |  \n",
      " |  >>> df = pd.DataFrame([[1, 2], [4, 5], [7, 8]],\n",
      " |  ...      index=[7, 8, 9], columns=['max_speed', 'shield'])\n",
      " |  >>> df\n",
      " |     max_speed  shield\n",
      " |  7          1       2\n",
      " |  8          4       5\n",
      " |  9          7       8\n",
      " |  \n",
      " |  Slice with integer labels for rows. As mentioned above, note that both\n",
      " |  the start and stop of the slice are included.\n",
      " |  \n",
      " |  >>> df.loc[7:9]\n",
      " |     max_speed  shield\n",
      " |  7          1       2\n",
      " |  8          4       5\n",
      " |  9          7       8\n",
      " |  \n",
      " |  **Getting values with a MultiIndex**\n",
      " |  \n",
      " |  A number of examples using a DataFrame with a MultiIndex\n",
      " |  \n",
      " |  >>> tuples = [\n",
      " |  ...    ('cobra', 'mark i'), ('cobra', 'mark ii'),\n",
      " |  ...    ('sidewinder', 'mark i'), ('sidewinder', 'mark ii'),\n",
      " |  ...    ('viper', 'mark ii'), ('viper', 'mark iii')\n",
      " |  ... ]\n",
      " |  >>> index = pd.MultiIndex.from_tuples(tuples)\n",
      " |  >>> values = [[12, 2], [0, 4], [10, 20],\n",
      " |  ...         [1, 4], [7, 1], [16, 36]]\n",
      " |  >>> df = pd.DataFrame(values, columns=['max_speed', 'shield'], index=index)\n",
      " |  >>> df\n",
      " |                       max_speed  shield\n",
      " |  cobra      mark i           12       2\n",
      " |             mark ii           0       4\n",
      " |  sidewinder mark i           10      20\n",
      " |             mark ii           1       4\n",
      " |  viper      mark ii           7       1\n",
      " |             mark iii         16      36\n",
      " |  \n",
      " |  Single label. Note this returns a DataFrame with a single index.\n",
      " |  \n",
      " |  >>> df.loc['cobra']\n",
      " |           max_speed  shield\n",
      " |  mark i          12       2\n",
      " |  mark ii          0       4\n",
      " |  \n",
      " |  Single index tuple. Note this returns a Series.\n",
      " |  \n",
      " |  >>> df.loc[('cobra', 'mark ii')]\n",
      " |  max_speed    0\n",
      " |  shield       4\n",
      " |  Name: (cobra, mark ii), dtype: int64\n",
      " |  \n",
      " |  Single label for row and column. Similar to passing in a tuple, this\n",
      " |  returns a Series.\n",
      " |  \n",
      " |  >>> df.loc['cobra', 'mark i']\n",
      " |  max_speed    12\n",
      " |  shield        2\n",
      " |  Name: (cobra, mark i), dtype: int64\n",
      " |  \n",
      " |  Single tuple. Note using ``[[]]`` returns a DataFrame.\n",
      " |  \n",
      " |  >>> df.loc[[('cobra', 'mark ii')]]\n",
      " |                 max_speed  shield\n",
      " |  cobra mark ii          0       4\n",
      " |  \n",
      " |  Single tuple for the index with a single label for the column\n",
      " |  \n",
      " |  >>> df.loc[('cobra', 'mark i'), 'shield']\n",
      " |  2\n",
      " |  \n",
      " |  Slice from index tuple to single label\n",
      " |  \n",
      " |  >>> df.loc[('cobra', 'mark i'):'viper']\n",
      " |                       max_speed  shield\n",
      " |  cobra      mark i           12       2\n",
      " |             mark ii           0       4\n",
      " |  sidewinder mark i           10      20\n",
      " |             mark ii           1       4\n",
      " |  viper      mark ii           7       1\n",
      " |             mark iii         16      36\n",
      " |  \n",
      " |  Slice from index tuple to index tuple\n",
      " |  \n",
      " |  >>> df.loc[('cobra', 'mark i'):('viper', 'mark ii')]\n",
      " |                      max_speed  shield\n",
      " |  cobra      mark i          12       2\n",
      " |             mark ii          0       4\n",
      " |  sidewinder mark i          10      20\n",
      " |             mark ii          1       4\n",
      " |  viper      mark ii          7       1\n",
      " |  \n",
      " |  Method resolution order:\n",
      " |      _LocIndexer\n",
      " |      _LocationIndexer\n",
      " |      _NDFrameIndexer\n",
      " |      pandas._libs.indexing._NDFrameIndexerBase\n",
      " |      builtins.object\n",
      " |  \n",
      " |  Methods inherited from _LocationIndexer:\n",
      " |  \n",
      " |  __getitem__(self, key)\n",
      " |  \n",
      " |  ----------------------------------------------------------------------\n",
      " |  Methods inherited from _NDFrameIndexer:\n",
      " |  \n",
      " |  __call__(self, axis=None)\n",
      " |      Call self as a function.\n",
      " |  \n",
      " |  __setitem__(self, key, value)\n",
      " |  \n",
      " |  ----------------------------------------------------------------------\n",
      " |  Data descriptors inherited from _NDFrameIndexer:\n",
      " |  \n",
      " |  __dict__\n",
      " |      dictionary for instance variables (if defined)\n",
      " |  \n",
      " |  __weakref__\n",
      " |      list of weak references to the object (if defined)\n",
      " |  \n",
      " |  ----------------------------------------------------------------------\n",
      " |  Data and other attributes inherited from _NDFrameIndexer:\n",
      " |  \n",
      " |  __annotations__ = {'_valid_types': <class 'str'>}\n",
      " |  \n",
      " |  axis = None\n",
      " |  \n",
      " |  ----------------------------------------------------------------------\n",
      " |  Methods inherited from pandas._libs.indexing._NDFrameIndexerBase:\n",
      " |  \n",
      " |  __init__(self, /, *args, **kwargs)\n",
      " |      Initialize self.  See help(type(self)) for accurate signature.\n",
      " |  \n",
      " |  __reduce__ = __reduce_cython__(...)\n",
      " |  \n",
      " |  __setstate__ = __setstate_cython__(...)\n",
      " |  \n",
      " |  ----------------------------------------------------------------------\n",
      " |  Static methods inherited from pandas._libs.indexing._NDFrameIndexerBase:\n",
      " |  \n",
      " |  __new__(*args, **kwargs) from builtins.type\n",
      " |      Create and return a new object.  See help(type) for accurate signature.\n",
      " |  \n",
      " |  ----------------------------------------------------------------------\n",
      " |  Data descriptors inherited from pandas._libs.indexing._NDFrameIndexerBase:\n",
      " |  \n",
      " |  name\n",
      " |  \n",
      " |  ndim\n",
      " |  \n",
      " |  obj\n",
      "\n"
     ]
    }
   ],
   "source": [
    "help(df.loc)"
   ]
  },
  {
   "cell_type": "code",
   "execution_count": 47,
   "metadata": {},
   "outputs": [
    {
     "name": "stdout",
     "output_type": "stream",
     "text": [
      "Perez        27\n",
      "Ortiz        24\n",
      "Rodriguez    22\n",
      "Gonzalez     32\n",
      "Name: Age, dtype: int64 \n",
      "\n",
      "\n",
      " Perez        27\n",
      "Ortiz        24\n",
      "Rodriguez    22\n",
      "Gonzalez     32\n",
      "Name: Age, dtype: int64 \n",
      "\n",
      "\n",
      "\n",
      "Name    Carlos\n",
      "Age         24\n",
      "City      Cali\n",
      "Sex          M\n",
      "Name: Ortiz, dtype: object \n",
      "\n",
      "\n",
      " Name    Carlos\n",
      "Age         24\n",
      "City      Cali\n",
      "Sex          M\n",
      "Name: Ortiz, dtype: object\n"
     ]
    }
   ],
   "source": [
    "print(df.Age, \"\\n\\n\\n\", df['Age'], \"\\n\\n\\n\") # Columna Age\n",
    "print(df.iloc[1],\"\\n\\n\\n\", df.loc['Ortiz']) # Fila Ortiz"
   ]
  },
  {
   "cell_type": "markdown",
   "metadata": {},
   "source": [
    "Es importante notar que tanto loc como iloc usan <b>[  ]</b>, no (  )"
   ]
  },
  {
   "cell_type": "markdown",
   "metadata": {},
   "source": [
    "### Agregar columnas e índices a un Data frame "
   ]
  },
  {
   "cell_type": "markdown",
   "metadata": {},
   "source": [
    "#### Agregar Filas"
   ]
  },
  {
   "cell_type": "markdown",
   "metadata": {},
   "source": [
    "<p> Para agregar información por índices/filas es necesario definir un data frame que posea las mismas columnas con las mismas etiquetas. </p>"
   ]
  },
  {
   "cell_type": "code",
   "execution_count": 60,
   "metadata": {},
   "outputs": [
    {
     "name": "stdout",
     "output_type": "stream",
     "text": [
      "             Name  Age         City Sex\n",
      "Perez       Maria   27       Bogota   F\n",
      "Ortiz      Carlos   24         Cali   M\n",
      "Rodriguez    Juan   22  Bucaramanga   M\n",
      "Gonzalez   Lorena   32          NaN   F\n",
      "Ortiz      Carlos   24         Cali   M\n",
      "Gonzalez   Lorena   32          NaN   F\n"
     ]
    }
   ],
   "source": [
    "df2 = df.append(df.iloc[[1,3]])\n",
    "print(df2)"
   ]
  },
  {
   "cell_type": "markdown",
   "metadata": {},
   "source": [
    "<p>De no hacerlo, se uniran los dos Data Frame llenando los campos de las columnas faltantes con N/A</p>"
   ]
  },
  {
   "cell_type": "code",
   "execution_count": 61,
   "metadata": {},
   "outputs": [
    {
     "name": "stdout",
     "output_type": "stream",
     "text": [
      "             Name   Age         City Sex\n",
      "Perez       Maria  27.0       Bogota   F\n",
      "Ortiz      Carlos  24.0         Cali   M\n",
      "Rodriguez    Juan  22.0  Bucaramanga   M\n",
      "Gonzalez   Lorena  32.0          NaN   F\n",
      "Ortiz      Carlos  24.0         Cali   M\n",
      "Gonzalez   Lorena  32.0          NaN   F\n",
      "Perez       Maria   NaN       Bogota   F\n",
      "Ortiz      Carlos   NaN         Cali   M\n",
      "Rodriguez    Juan   NaN  Bucaramanga   M\n",
      "Gonzalez   Lorena   NaN          NaN   F\n"
     ]
    }
   ],
   "source": [
    "df3 = df.drop(columns='Age')\n",
    "df2 = df2.append(df3)\n",
    "print(df2)"
   ]
  },
  {
   "cell_type": "markdown",
   "metadata": {},
   "source": [
    "#### Agregar columnas"
   ]
  },
  {
   "cell_type": "markdown",
   "metadata": {},
   "source": [
    "En este caso, es posible agregar otra columna en el data frame, siempre que posea el mismo número de índices, de la siguiente manera:"
   ]
  },
  {
   "cell_type": "code",
   "execution_count": 117,
   "metadata": {},
   "outputs": [],
   "source": [
    "df4 = df.iloc[:]"
   ]
  },
  {
   "cell_type": "code",
   "execution_count": 118,
   "metadata": {},
   "outputs": [
    {
     "name": "stdout",
     "output_type": "stream",
     "text": [
      "             Name  Age         City Sex  Hijos\n",
      "Perez       Maria   27       Bogota   F    NaN\n",
      "Ortiz      Carlos   24         Cali   M    NaN\n",
      "Rodriguez    Juan   22  Bucaramanga   M    NaN\n",
      "Gonzalez   Lorena   32          NaN   F    NaN\n"
     ]
    }
   ],
   "source": [
    "df4['Hijos'] = pd.Series([1, 2, 4, 1])\n",
    "print(df4)"
   ]
  },
  {
   "cell_type": "markdown",
   "metadata": {},
   "source": [
    "Porque la columna de Hijos no tiene valores? Esto e debido a que el índice de la serie que estamos agregando, aunque tenga el mismo número de registros, su índice es diferente"
   ]
  },
  {
   "cell_type": "code",
   "execution_count": 123,
   "metadata": {},
   "outputs": [
    {
     "name": "stdout",
     "output_type": "stream",
     "text": [
      "RangeIndex(start=0, stop=4, step=1) \n",
      "\n",
      " Index(['Perez', 'Ortiz', 'Rodriguez', 'Gonzalez'], dtype='object')\n"
     ]
    }
   ],
   "source": [
    "print(pd.Series([1, 2, 4, 1]).index, '\\n\\n', df4.index)"
   ]
  },
  {
   "cell_type": "markdown",
   "metadata": {},
   "source": [
    "En este caso en especial, podemos \"reiniciar\" el valor de los índices"
   ]
  },
  {
   "cell_type": "code",
   "execution_count": 124,
   "metadata": {},
   "outputs": [
    {
     "name": "stdout",
     "output_type": "stream",
     "text": [
      "     Name  Age         City Sex  Hijos\n",
      "0   Maria   27       Bogota   F    NaN\n",
      "1  Carlos   24         Cali   M    NaN\n",
      "2    Juan   22  Bucaramanga   M    NaN\n",
      "3  Lorena   32          NaN   F    NaN\n"
     ]
    }
   ],
   "source": [
    "## Limpiar las etiquetas de los índices\n",
    "df4 = df4.reset_index(level=0, drop=True)\n",
    "print(df4)"
   ]
  },
  {
   "cell_type": "code",
   "execution_count": 125,
   "metadata": {},
   "outputs": [
    {
     "name": "stdout",
     "output_type": "stream",
     "text": [
      "     Name  Age         City Sex  Hijos\n",
      "0   Maria   27       Bogota   F      1\n",
      "1  Carlos   24         Cali   M      2\n",
      "2    Juan   22  Bucaramanga   M      4\n",
      "3  Lorena   32          NaN   F      1\n"
     ]
    }
   ],
   "source": [
    "df4['Hijos'] = pd.Series([1, 2, 4, 1])\n",
    "print(df4)"
   ]
  },
  {
   "cell_type": "markdown",
   "metadata": {},
   "source": [
    "Ahora vemos que si se pudo agregar de forma correcta el número de hijos"
   ]
  },
  {
   "cell_type": "code",
   "execution_count": 126,
   "metadata": {},
   "outputs": [
    {
     "name": "stdout",
     "output_type": "stream",
     "text": [
      "     Name                       Universidad  Age         City Sex  Hijos\n",
      "0   Maria  Universidad Nacional de Colombia   27       Bogota   F      1\n",
      "1  Carlos  Universidad Nacional de Colombia   24         Cali   M      2\n",
      "2    Juan  Universidad Nacional de Colombia   22  Bucaramanga   M      4\n",
      "3  Lorena  Universidad Nacional de Colombia   32          NaN   F      1\n"
     ]
    }
   ],
   "source": [
    "df4.insert(1, 'Universidad', 'Universidad Nacional de Colombia')\n",
    "print(df4)"
   ]
  },
  {
   "cell_type": "markdown",
   "metadata": {},
   "source": [
    "El primer campo en insert nos indica si estamos agregando filas o columnas, siendo 1 la etiqueta para columnas. El segundo campo es la etiqueta a agregar y el tercer campo sus valores. En este caso como solo ponemos un valor, lo usará para todos los registros"
   ]
  },
  {
   "cell_type": "code",
   "execution_count": 127,
   "metadata": {},
   "outputs": [
    {
     "name": "stdout",
     "output_type": "stream",
     "text": [
      "     Name    Localidad                       Universidad  Age         City  \\\n",
      "0   Maria  Teusaquillo  Universidad Nacional de Colombia   27       Bogota   \n",
      "1  Carlos  Teusaquillo  Universidad Nacional de Colombia   24         Cali   \n",
      "2    Juan     Engativá  Universidad Nacional de Colombia   22  Bucaramanga   \n",
      "3  Lorena         Suba  Universidad Nacional de Colombia   32          NaN   \n",
      "\n",
      "  Sex  Hijos  \n",
      "0   F      1  \n",
      "1   M      2  \n",
      "2   M      4  \n",
      "3   F      1  \n"
     ]
    }
   ],
   "source": [
    "df4.insert(1, 'Localidad', ['Teusaquillo', 'Teusaquillo', 'Engativá', 'Suba'])\n",
    "print(df4)"
   ]
  },
  {
   "cell_type": "markdown",
   "metadata": {},
   "source": [
    "En este caso, como ponemos una lista en los valores, los pondrá según su orden"
   ]
  },
  {
   "cell_type": "markdown",
   "metadata": {},
   "source": [
    "## Ejercicio"
   ]
  },
  {
   "cell_type": "markdown",
   "metadata": {},
   "source": [
    "1. Crear cuatro series de longitud cuatro elementos."
   ]
  },
  {
   "cell_type": "code",
   "execution_count": null,
   "metadata": {},
   "outputs": [],
   "source": []
  },
  {
   "cell_type": "markdown",
   "metadata": {},
   "source": [
    "2. Crear un Data frame uniendo las series anteriores a un Dataframe vacio."
   ]
  },
  {
   "cell_type": "code",
   "execution_count": 138,
   "metadata": {},
   "outputs": [
    {
     "name": "stdout",
     "output_type": "stream",
     "text": [
      "Empty DataFrame\n",
      "Columns: []\n",
      "Index: []\n"
     ]
    }
   ],
   "source": [
    "newdf = pd.DataFrame()\n",
    "print(newdf)"
   ]
  },
  {
   "cell_type": "markdown",
   "metadata": {},
   "source": [
    "3. Imprimir los registros 2 y 3 del Data frame anterior."
   ]
  },
  {
   "cell_type": "code",
   "execution_count": null,
   "metadata": {},
   "outputs": [],
   "source": []
  },
  {
   "cell_type": "markdown",
   "metadata": {},
   "source": [
    "4. Imprimir la columna 3 del Data frame anterior por etiqueta y posición. (Pista: Use loc y iloc respectivamente)"
   ]
  },
  {
   "cell_type": "code",
   "execution_count": null,
   "metadata": {},
   "outputs": [],
   "source": []
  }
 ],
 "metadata": {
  "kernelspec": {
   "display_name": "Python 3",
   "language": "python",
   "name": "python3"
  },
  "language_info": {
   "codemirror_mode": {
    "name": "ipython",
    "version": 3
   },
   "file_extension": ".py",
   "mimetype": "text/x-python",
   "name": "python",
   "nbconvert_exporter": "python",
   "pygments_lexer": "ipython3",
   "version": "3.8.2"
  }
 },
 "nbformat": 4,
 "nbformat_minor": 4
}
