{
 "cells": [
  {
   "cell_type": "markdown",
   "metadata": {},
   "source": [
    "# Introducción a Python parte 2\n",
    "\n",
    "Primero, comencemos importando <b>numpy</b> como <b>np</b>"
   ]
  },
  {
   "cell_type": "code",
   "execution_count": 2,
   "metadata": {},
   "outputs": [],
   "source": [
    "import x as y"
   ]
  },
  {
   "cell_type": "markdown",
   "metadata": {},
   "source": [
    "Para recordar lo visto la clase pasada, repasemos los ejercicios pasados"
   ]
  },
  {
   "cell_type": "markdown",
   "metadata": {},
   "source": [
    "### Tipos\n",
    "\n",
    "1. En la celda siguiente, tipeen los siguientes elementos y muestre de que tipo con <b>print()</b> y <b>type()</b>.\n",
    "    * \"Hello world!!\"\n",
    "    * 1908\n",
    "    * 1087.188893\n",
    "    * \"Hello world\" + 1 + \"My name is:\"    \n",
    "2. Transforme un número entero a float, y luego de manera inversa con <b>int()</b> y <b>float()</b>.\n",
    "\n",
    "3. ¿Qué sucede si cambiamos el dato 3 y 0 a booleano? (Pista: Utilice <b>bool()</b>).\n",
    "\n",
    "4. Transforme un string a número."
   ]
  },
  {
   "cell_type": "code",
   "execution_count": null,
   "metadata": {},
   "outputs": [],
   "source": []
  },
  {
   "cell_type": "markdown",
   "metadata": {},
   "source": [
    "### Datos agrupados\n",
    "\n",
    "1. Realice tres ejemplos distintos de listas y 3 de tuplas (listas con <b>[  ]</b>, tuplas con <b>(  )</b>)\n",
    "2. Realice un diccionario (con <b>{  }</b>) con dos valores por llave con sus siguientes datos: nombre, edad, lista de los platos preferidos (Pista: Use una tupla/lista dentro de una tupla/lista)."
   ]
  },
  {
   "cell_type": "code",
   "execution_count": null,
   "metadata": {},
   "outputs": [],
   "source": []
  },
  {
   "cell_type": "markdown",
   "metadata": {},
   "source": [
    "### Operaciones aritméticas\n",
    "\n",
    "1. Realize una suma, una resta, una multiplicación y una división.\n",
    "2. Realice un calculo aritmético implementando 4 de operaciones matemáticas en una misma linea."
   ]
  },
  {
   "cell_type": "code",
   "execution_count": null,
   "metadata": {},
   "outputs": [],
   "source": []
  },
  {
   "cell_type": "markdown",
   "metadata": {},
   "source": [
    "## Vectores y matrices\n",
    "\n",
    "Retomando el tema de la clase pasada, las librerias usualmente giran en torno a un tema en específico. En el caso de numpy, es la creación y manipulación de vectores y matrices.\n",
    "\n",
    "* Vectores: Se considera un vector aquel conjunto de elementos que son todos números, cuya dimensión es 1xn o nx1.\n",
    "\n",
    "* Matrices: Una matriz es una colección de elementos algebraicos a los que se pueden aplicar distintas operaciones númericas, cuya dimensión es mxn."
   ]
  },
  {
   "cell_type": "code",
   "execution_count": 3,
   "metadata": {},
   "outputs": [
    {
     "name": "stdout",
     "output_type": "stream",
     "text": [
      "[2 3 4] \n",
      "\n",
      "[[1 2 3]\n",
      " [3 4 5]]\n"
     ]
    }
   ],
   "source": [
    "# Ejemplos:\n",
    "vector1 = np.array([2,3,4])\n",
    "matriz1 = np.array([[1,2,3],[3,4,5]])\n",
    "\n",
    "print(vector1, '\\n')\n",
    "print(matriz1)"
   ]
  },
  {
   "cell_type": "markdown",
   "metadata": {},
   "source": [
    "Con numpy podemos crear distintos de matrices y realizar operaciones matriciales con estas."
   ]
  },
  {
   "cell_type": "code",
   "execution_count": 25,
   "metadata": {},
   "outputs": [
    {
     "name": "stdout",
     "output_type": "stream",
     "text": [
      "[[1. 0. 0. 0. 0.]\n",
      " [0. 1. 0. 0. 0.]\n",
      " [0. 0. 1. 0. 0.]\n",
      " [0. 0. 0. 1. 0.]\n",
      " [0. 0. 0. 0. 1.]]\n"
     ]
    }
   ],
   "source": [
    "# Matriz identidad\n",
    "eye = np.eye(5)\n",
    "print(eye)"
   ]
  },
  {
   "cell_type": "code",
   "execution_count": 26,
   "metadata": {},
   "outputs": [
    {
     "name": "stdout",
     "output_type": "stream",
     "text": [
      "[[0. 0. 0. 0.]\n",
      " [0. 0. 0. 0.]\n",
      " [0. 0. 0. 0.]\n",
      " [0. 0. 0. 0.]\n",
      " [0. 0. 0. 0.]]\n"
     ]
    }
   ],
   "source": [
    "# Matriz de ceros\n",
    "zero = np.zeros((5, 4))\n",
    "print(zero)"
   ]
  },
  {
   "cell_type": "code",
   "execution_count": 27,
   "metadata": {},
   "outputs": [
    {
     "name": "stdout",
     "output_type": "stream",
     "text": [
      "[['F' 'F' 'F' 'F']\n",
      " ['F' 'F' 'F' 'F']\n",
      " ['F' 'F' 'F' 'F']]\n"
     ]
    }
   ],
   "source": [
    "# Matriz de constantes\n",
    "full = np.full((3, 4), 'F')\n",
    "print(full)"
   ]
  },
  {
   "cell_type": "code",
   "execution_count": 33,
   "metadata": {},
   "outputs": [
    {
     "name": "stdout",
     "output_type": "stream",
     "text": [
      "[[0 1 2]\n",
      " [3 4 5]\n",
      " [6 7 8]] \n",
      "\n",
      " [[0 3 6]\n",
      " [1 4 7]\n",
      " [2 5 8]]\n"
     ]
    }
   ],
   "source": [
    "# Matriz transpuesta\n",
    "test = np.arange(9).reshape(3, 3)\n",
    "print(test, '\\n\\n', np.transpose(test))"
   ]
  },
  {
   "cell_type": "code",
   "execution_count": 37,
   "metadata": {},
   "outputs": [
    {
     "name": "stdout",
     "output_type": "stream",
     "text": [
      "[[-0.0027765  -0.0151886   0.03500471]\n",
      " [ 0.0010466   0.17706486 -0.02254072]\n",
      " [ 0.00160882 -0.00054492 -0.00159152]] \n",
      "\n",
      "[[ 1.00000000e+00 -1.78893358e-17  4.05491613e-17]\n",
      " [-8.45677695e-18  1.00000000e+00  3.40439482e-17]\n",
      " [ 5.13911830e-17  4.95480393e-17  1.00000000e+00]]\n"
     ]
    }
   ],
   "source": [
    "# Matriz inversa\n",
    "matriz = np.array([[34,5,677],[4,6,3],[33,3,55]])\n",
    "inv = np.linalg.inv(matriz)\n",
    "print(inv, '\\n')\n",
    "\n",
    "# A x A_inv nos da como resultado I (@ nos permite multiplicar matricialmente).\n",
    "print(matriz @ inv)"
   ]
  },
  {
   "cell_type": "markdown",
   "metadata": {},
   "source": [
    "### Ejercicio\n",
    "\n",
    "1. Crear dos matrices y multiplicarlas."
   ]
  },
  {
   "cell_type": "code",
   "execution_count": null,
   "metadata": {},
   "outputs": [],
   "source": []
  },
  {
   "attachments": {
    "Hello-World-Index.jpeg": {
     "image/jpeg": "[encoded data removed]"
    }
   },
   "cell_type": "markdown",
   "metadata": {},
   "source": [
    "## Indexación\n",
    "\n",
    "Indexación en programación hace referencia a como se organizan distintos elementos por medio de un índice. En el caso de Python, usamos indexación base cero.\n",
    "\n",
    "![Hello-World-Index.jpeg](attachment:Hello-World-Index.jpeg)\n",
    "\n",
    "Como podemos ver, Python permite indexación izquierda-derecha y viceversa. Esto es necesario para poder accceder a la información de los objetos.\n",
    "\n",
    "Para poder acceder a un elemento por medio de su índice usamos <b>[   ]</b>"
   ]
  },
  {
   "cell_type": "code",
   "execution_count": 41,
   "metadata": {},
   "outputs": [
    {
     "name": "stdout",
     "output_type": "stream",
     "text": [
      "[1, 2, 3, 4, 5, 6, 7, 8, 9, 10, 11, 12, 13, 14, 15, 16, 17, 18, 19, 20]\n"
     ]
    }
   ],
   "source": [
    "listaN = list(range(1,21))\n",
    "print(listaN)"
   ]
  },
  {
   "cell_type": "markdown",
   "metadata": {},
   "source": [
    "* Cual es el décimo elemento de la lista anterior?"
   ]
  },
  {
   "cell_type": "code",
   "execution_count": null,
   "metadata": {},
   "outputs": [],
   "source": []
  },
  {
   "cell_type": "markdown",
   "metadata": {},
   "source": [
    "* Cual es el penúltimo elemento de la lista anterior?"
   ]
  },
  {
   "cell_type": "code",
   "execution_count": null,
   "metadata": {},
   "outputs": [],
   "source": []
  },
  {
   "cell_type": "markdown",
   "metadata": {},
   "source": [
    "* Para tomar múltiples elementos usamos _slicing_, tomar un trozo de un elemento. Para esto usamos dos números indicando el comienzo y el final, separados por <b>:</b>"
   ]
  },
  {
   "cell_type": "code",
   "execution_count": 42,
   "metadata": {},
   "outputs": [
    {
     "name": "stdout",
     "output_type": "stream",
     "text": [
      "[1, 2, 3, 4, 5]\n"
     ]
    }
   ],
   "source": [
    "print(listaN[0:5])"
   ]
  },
  {
   "cell_type": "markdown",
   "metadata": {},
   "source": [
    "Por qué si pusimos 5 como final (sexto elemento en base cero) no nos trajo el sexto elemento? Esto es debido a que al realizar un _slice_, Python no incluye el elemento final (Es como si usara <b>[   )</b> en matemática).\n",
    "\n",
    "* Si no incluimos ningun valor, Python toma todos los elementos posibles."
   ]
  },
  {
   "cell_type": "code",
   "execution_count": 43,
   "metadata": {},
   "outputs": [
    {
     "name": "stdout",
     "output_type": "stream",
     "text": [
      "[1, 2, 3, 4, 5, 6, 7, 8, 9, 10, 11, 12, 13, 14, 15, 16, 17, 18, 19, 20]\n"
     ]
    }
   ],
   "source": [
    "print(listaN[:])"
   ]
  },
  {
   "cell_type": "code",
   "execution_count": 44,
   "metadata": {},
   "outputs": [
    {
     "name": "stdout",
     "output_type": "stream",
     "text": [
      "[1, 2, 3, 4, 5, 6, 7, 8]\n"
     ]
    }
   ],
   "source": [
    "# Todos los elementos hasta el octavo\n",
    "print(listaN[:8])"
   ]
  },
  {
   "cell_type": "code",
   "execution_count": 45,
   "metadata": {},
   "outputs": [
    {
     "name": "stdout",
     "output_type": "stream",
     "text": [
      "[8, 9, 10, 11, 12, 13, 14, 15, 16, 17, 18, 19, 20]\n"
     ]
    }
   ],
   "source": [
    "# Todos los elementos desde el octavo\n",
    "print(listaN[7:])"
   ]
  },
  {
   "cell_type": "markdown",
   "metadata": {},
   "source": [
    "* Tambien podemos seleccionar incrementos con un segundo <b>:</b>"
   ]
  },
  {
   "cell_type": "code",
   "execution_count": 67,
   "metadata": {},
   "outputs": [
    {
     "name": "stdout",
     "output_type": "stream",
     "text": [
      "[2, 'Otro valor', 8]\n"
     ]
    }
   ],
   "source": [
    "print(listaN[1:10:3])"
   ]
  },
  {
   "cell_type": "markdown",
   "metadata": {},
   "source": [
    "* Podemos usar índices para reemplazar elementos en una lista."
   ]
  },
  {
   "cell_type": "code",
   "execution_count": 46,
   "metadata": {},
   "outputs": [
    {
     "name": "stdout",
     "output_type": "stream",
     "text": [
      "[1, 2, 3, 4, 'Otro valor', 6, 7, 8, 9, 10, 11, 12, 13, 14, 15, 16, 17, 18, 19, 20]\n"
     ]
    }
   ],
   "source": [
    "listaN[4] = 'Otro valor'\n",
    "print(listaN)"
   ]
  },
  {
   "cell_type": "markdown",
   "metadata": {},
   "source": [
    "* La indexación aplica para _strings_"
   ]
  },
  {
   "cell_type": "code",
   "execution_count": 48,
   "metadata": {},
   "outputs": [
    {
     "name": "stdout",
     "output_type": "stream",
     "text": [
      "to es un\n"
     ]
    }
   ],
   "source": [
    "string = 'Esto es un string'\n",
    "print(string[2:10])"
   ]
  },
  {
   "cell_type": "markdown",
   "metadata": {},
   "source": [
    "* Pero debido a que un string es considerado un elemento inmutable (como una tupla), no podemos reemplazar valores sin crear un objeto nuevo"
   ]
  },
  {
   "cell_type": "code",
   "execution_count": 51,
   "metadata": {},
   "outputs": [
    {
     "ename": "TypeError",
     "evalue": "'str' object does not support item assignment",
     "output_type": "error",
     "traceback": [
      "\u001b[1;31m---------------------------------------------------------------------------\u001b[0m",
      "\u001b[1;31mTypeError\u001b[0m                                 Traceback (most recent call last)",
      "\u001b[1;32m<ipython-input-51-ecf15cfdc863>\u001b[0m in \u001b[0;36m<module>\u001b[1;34m\u001b[0m\n\u001b[1;32m----> 1\u001b[1;33m \u001b[0mstring\u001b[0m\u001b[1;33m[\u001b[0m\u001b[1;36m4\u001b[0m\u001b[1;33m]\u001b[0m \u001b[1;33m=\u001b[0m \u001b[1;34m'h'\u001b[0m\u001b[1;33m\u001b[0m\u001b[1;33m\u001b[0m\u001b[0m\n\u001b[0m",
      "\u001b[1;31mTypeError\u001b[0m: 'str' object does not support item assignment"
     ]
    }
   ],
   "source": [
    "string[4] = 'h'"
   ]
  },
  {
   "cell_type": "code",
   "execution_count": 55,
   "metadata": {},
   "outputs": [
    {
     "name": "stdout",
     "output_type": "stream",
     "text": [
      "(2, 3)\n"
     ]
    }
   ],
   "source": [
    "tupla1 = (1, 2, 3, 4)\n",
    "print(tupla1[1:3])"
   ]
  },
  {
   "cell_type": "code",
   "execution_count": 57,
   "metadata": {},
   "outputs": [
    {
     "ename": "TypeError",
     "evalue": "'tuple' object does not support item assignment",
     "output_type": "error",
     "traceback": [
      "\u001b[1;31m---------------------------------------------------------------------------\u001b[0m",
      "\u001b[1;31mTypeError\u001b[0m                                 Traceback (most recent call last)",
      "\u001b[1;32m<ipython-input-57-f9f87499e020>\u001b[0m in \u001b[0;36m<module>\u001b[1;34m\u001b[0m\n\u001b[1;32m----> 1\u001b[1;33m \u001b[0mtupla1\u001b[0m\u001b[1;33m[\u001b[0m\u001b[1;36m1\u001b[0m\u001b[1;33m]\u001b[0m \u001b[1;33m=\u001b[0m \u001b[1;36m3\u001b[0m\u001b[1;33m\u001b[0m\u001b[1;33m\u001b[0m\u001b[0m\n\u001b[0m",
      "\u001b[1;31mTypeError\u001b[0m: 'tuple' object does not support item assignment"
     ]
    }
   ],
   "source": [
    "tupla1[1] = 3"
   ]
  },
  {
   "cell_type": "markdown",
   "metadata": {},
   "source": [
    "* Si un elemento tiene múltiples elementos adentro de el, podemos usar múltiples corchetes para acceder a ellos"
   ]
  },
  {
   "cell_type": "code",
   "execution_count": 62,
   "metadata": {},
   "outputs": [
    {
     "name": "stdout",
     "output_type": "stream",
     "text": [
      "('tuple', 'not', 'empty') \n",
      "\n",
      "empty \n",
      "\n",
      "p\n"
     ]
    }
   ],
   "source": [
    "lista2 = [1, 2, 3, 'A word', ('tuple', 'not', 'empty')]\n",
    "print(lista2[-1], '\\n')\n",
    "print(lista2[-1][2], '\\n')\n",
    "print(lista2[-1][2][-3])"
   ]
  },
  {
   "cell_type": "markdown",
   "metadata": {},
   "source": [
    "Entrando más a profundidad entre las diferencias entre tuplas y listas, las tuplas simplemente no incluyen funciones para su modificación, a diferencia de las listas.\n",
    "\n",
    "Para agregar elementos a una lista podemos usar:\n",
    "* append(): Agrega un único elemento a la lista.\n",
    "* extend(): Une múltiples elementos a una lista.\n",
    "* insert(): Agrega un elemento a la lista en un índice indicado."
   ]
  },
  {
   "cell_type": "code",
   "execution_count": 85,
   "metadata": {},
   "outputs": [
    {
     "name": "stdout",
     "output_type": "stream",
     "text": [
      "[1, 2, 3, 4, 5]\n"
     ]
    }
   ],
   "source": [
    "lista3 = [1, 2, 3, 4]\n",
    "lista3.append(5)\n",
    "print(lista3)"
   ]
  },
  {
   "cell_type": "code",
   "execution_count": 86,
   "metadata": {},
   "outputs": [
    {
     "name": "stdout",
     "output_type": "stream",
     "text": [
      "[1, 2, 3, 4, 5, 6, 7, 8]\n"
     ]
    }
   ],
   "source": [
    "lista3.extend([6, 7, 8])\n",
    "print(lista3)"
   ]
  },
  {
   "cell_type": "markdown",
   "metadata": {},
   "source": [
    "* Cual es la diferencia entre append y extend?"
   ]
  },
  {
   "cell_type": "code",
   "execution_count": null,
   "metadata": {},
   "outputs": [],
   "source": []
  },
  {
   "cell_type": "code",
   "execution_count": 77,
   "metadata": {},
   "outputs": [
    {
     "name": "stdout",
     "output_type": "stream",
     "text": [
      "['cero', 0, 1, 2, 3, 4, 5, 6, 7, 8]\n"
     ]
    }
   ],
   "source": [
    "lista3.insert(0, 'cero')\n",
    "print(lista3)"
   ]
  },
  {
   "cell_type": "markdown",
   "metadata": {},
   "source": [
    "Para eliminar elementos en una lista podemos usar:\n",
    "* remove(): Elimina un elemento según su valor.\n",
    "* pop(): Elimina un elemento según su índice y retorna su valor, si no se selecciona un índice, elimina el último elemento.\n",
    "* clear(): Elimina todos los elementos.\n",
    "* del: No es una función de las listas sino de Python, permite eliminar elementos."
   ]
  },
  {
   "cell_type": "code",
   "execution_count": 78,
   "metadata": {},
   "outputs": [
    {
     "name": "stdout",
     "output_type": "stream",
     "text": [
      "[0, 1, 2, 3, 4, 5, 6, 7, 8]\n"
     ]
    }
   ],
   "source": [
    "lista3.remove('cero')\n",
    "print(lista3)"
   ]
  },
  {
   "cell_type": "code",
   "execution_count": 82,
   "metadata": {},
   "outputs": [
    {
     "name": "stdout",
     "output_type": "stream",
     "text": [
      "7 \n",
      "\n",
      "[0, 1, 2, 3, 4, 5, 6]\n"
     ]
    }
   ],
   "source": [
    "n = lista3.pop()\n",
    "print(n, '\\n')\n",
    "print(lista3)"
   ]
  },
  {
   "cell_type": "code",
   "execution_count": 83,
   "metadata": {},
   "outputs": [
    {
     "name": "stdout",
     "output_type": "stream",
     "text": [
      "[0, 1, 2, 3, 4, 5, 6] \n",
      "\n",
      "[]\n"
     ]
    }
   ],
   "source": [
    "lista4 = lista3\n",
    "print(lista4, '\\n')\n",
    "lista4.clear()\n",
    "print(lista4)"
   ]
  },
  {
   "cell_type": "code",
   "execution_count": 89,
   "metadata": {},
   "outputs": [
    {
     "name": "stdout",
     "output_type": "stream",
     "text": [
      "[1, 2]\n"
     ]
    }
   ],
   "source": [
    "del lista3[2:]\n",
    "print(lista3)"
   ]
  },
  {
   "cell_type": "markdown",
   "metadata": {},
   "source": [
    "### Ejercicio\n",
    "\n",
    "1. De _listaN_ obtenga:\n",
    "    1. Los primeros 10 elementos de 2 en 2\n",
    "    2. Excluya el último elemento\n",
    "2. Con la variable _stringN = \"abcdefghijklmno\"_ realice los mismos procedimientos\n",
    "3. Genere una lista con distinto tipos de elementos \n",
    "4. Utilice _dir()_ y _help()_ (o internet) para entender que operaciones/métodos puede trabajar con una tupla. Realice 2 de ellas.\n",
    "5. Utilice _del_ para eliminar un elemento\n"
   ]
  },
  {
   "cell_type": "code",
   "execution_count": 93,
   "metadata": {},
   "outputs": [
    {
     "name": "stdout",
     "output_type": "stream",
     "text": [
      "\f",
      "\n"
     ]
    }
   ],
   "source": []
  }
 ],
 "metadata": {
  "kernelspec": {
   "display_name": "Python 3",
   "language": "python",
   "name": "python3"
  },
  "language_info": {
   "codemirror_mode": {
    "name": "ipython",
    "version": 3
   },
   "file_extension": ".py",
   "mimetype": "text/x-python",
   "name": "python",
   "nbconvert_exporter": "python",
   "pygments_lexer": "ipython3",
   "version": "3.7.1"
  }
 },
 "nbformat": 4,
 "nbformat_minor": 2
}
